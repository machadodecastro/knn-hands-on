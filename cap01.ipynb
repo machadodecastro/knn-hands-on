{
 "cells": [
  {
   "cell_type": "markdown",
   "metadata": {},
   "source": [
    "# <font color='blue'>KNN Hands-On</font>\n",
    "# <font color='blue'>Capítulo 1</font>\n"
   ]
  },
  {
   "cell_type": "code",
   "execution_count": 1,
   "metadata": {},
   "outputs": [
    {
     "name": "stdout",
     "output_type": "stream",
     "text": [
      "Versão da Linguagem Python usada neste Jupyter Notebook: 3.9.12\n"
     ]
    }
   ],
   "source": [
    "# Versão da Linguagem Python\n",
    "from platform import python_version\n",
    "print('Versão da Linguagem Python usada neste Jupyter Notebook:', python_version())"
   ]
  },
  {
   "cell_type": "markdown",
   "metadata": {},
   "source": [
    "# Exemplo com dataset Iris"
   ]
  },
  {
   "cell_type": "code",
   "execution_count": 2,
   "metadata": {},
   "outputs": [
    {
     "name": "stdout",
     "output_type": "stream",
     "text": [
      "Acurácia do KNN: 1.0\n"
     ]
    }
   ],
   "source": [
    "from sklearn.neighbors import KNeighborsClassifier\n",
    "from sklearn.model_selection import train_test_split\n",
    "from sklearn.metrics import accuracy_score\n",
    "from sklearn.datasets import load_iris\n",
    "\n",
    "# Carregar conjunto de dados de exemplo (Iris dataset)\n",
    "iris = load_iris()\n",
    "X = iris.data  # Características\n",
    "y = iris.target  # Classes\n",
    "\n",
    "# Dividir o conjunto de dados em conjunto de treinamento e teste\n",
    "X_train, X_test, y_train, y_test = train_test_split(X, y, test_size=0.2, random_state=42)\n",
    "\n",
    "# Criar um classificador KNN com k=3\n",
    "knn = KNeighborsClassifier(n_neighbors=3)\n",
    "\n",
    "# Treinar o classificador com o conjunto de treinamento\n",
    "knn.fit(X_train, y_train)\n",
    "\n",
    "# Fazer previsões no conjunto de teste\n",
    "y_pred = knn.predict(X_test)\n",
    "\n",
    "# Avaliar a precisão do modelo\n",
    "accuracy = accuracy_score(y_test, y_pred)\n",
    "print(\"Acurácia do KNN:\", accuracy)"
   ]
  },
  {
   "cell_type": "markdown",
   "metadata": {},
   "source": [
    "# Nearest Neighbors"
   ]
  },
  {
   "cell_type": "markdown",
   "metadata": {},
   "source": [
    "## Nearest Neighbors Não Supervisionados"
   ]
  },
  {
   "cell_type": "markdown",
   "metadata": {},
   "source": [
    "### BallTree"
   ]
  },
  {
   "cell_type": "code",
   "execution_count": 12,
   "metadata": {},
   "outputs": [
    {
     "name": "stdout",
     "output_type": "stream",
     "text": [
      "Acurácia do KNN com BallTree: 1.0\n"
     ]
    }
   ],
   "source": [
    "from sklearn.neighbors import KNeighborsClassifier\n",
    "from sklearn.model_selection import train_test_split\n",
    "from sklearn.metrics import accuracy_score\n",
    "from sklearn.datasets import load_iris\n",
    "\n",
    "# Carregar conjunto de dados de exemplo (Íris dataset)\n",
    "iris = load_iris()\n",
    "X = iris.data  # Características\n",
    "y = iris.target  # Classes\n",
    "\n",
    "# Dividir o conjunto de dados em conjunto de treinamento e teste\n",
    "X_train, X_test, y_train, y_test = train_test_split(X, y, test_size=0.2, random_state=42)\n",
    "\n",
    "# Criar um classificador KNN com BallTree e k=3\n",
    "knn = KNeighborsClassifier(n_neighbors=3, algorithm='ball_tree')\n",
    "\n",
    "# Treinar o classificador com o conjunto de treinamento\n",
    "knn.fit(X_train, y_train)\n",
    "\n",
    "# Fazer previsões no conjunto de teste\n",
    "y_pred = knn.predict(X_test)\n",
    "\n",
    "# Avaliar a precisão do modelo\n",
    "accuracy = accuracy_score(y_test, y_pred)\n",
    "print(\"Acurácia do KNN com BallTree:\", accuracy)\n"
   ]
  },
  {
   "cell_type": "markdown",
   "metadata": {},
   "source": [
    "### Recomendação de filmes com BallTree"
   ]
  },
  {
   "cell_type": "code",
   "execution_count": 17,
   "metadata": {},
   "outputs": [
    {
     "name": "stdout",
     "output_type": "stream",
     "text": [
      "Filmes semelhantes ao filme: Toy Story (1995)\n",
      "Star Wars: Episode V - The Empire Strikes Back (1980) (Distância: 0.38299165451262984)\n",
      "Terminator 2: Judgment Day (1991) (Distância: 0.4058879034472924)\n",
      "Schindler's List (1993) (Distância: 0.4147618738457047)\n",
      "Fight Club (1999) (Distância: 0.42626982607196917)\n"
     ]
    }
   ],
   "source": [
    "import pandas as pd\n",
    "from sklearn.neighbors import NearestNeighbors\n",
    "from sklearn.preprocessing import StandardScaler\n",
    "\n",
    "# Carregar conjunto de dados de avaliações de filmes\n",
    "movies = pd.read_csv('dataset/movies.csv')\n",
    "ratings = pd.read_csv('dataset/ratings.csv')\n",
    "\n",
    "# Calcular média de avaliação por filme\n",
    "movie_ratings = ratings.groupby('movieId').agg({'rating': 'mean', 'userId': 'count'})\n",
    "movie_ratings.rename(columns={'rating': 'avg_rating', 'userId': 'num_ratings'}, inplace=True)\n",
    "\n",
    "# Juntar informações dos filmes com média de avaliação\n",
    "movies = pd.merge(movies, movie_ratings, on='movieId')\n",
    "\n",
    "# Selecionar apenas algumas características relevantes para o exemplo\n",
    "features = ['avg_rating', 'num_ratings']\n",
    "\n",
    "# Padronizar os dados\n",
    "scaler = StandardScaler()\n",
    "X = scaler.fit_transform(movies[features])\n",
    "\n",
    "# Criar e treinar o modelo KNN com BallTree\n",
    "knn = NearestNeighbors(n_neighbors=5, algorithm='ball_tree')\n",
    "knn.fit(X)\n",
    "\n",
    "# Função para encontrar filmes semelhantes\n",
    "def find_similar_movies(movie_index):\n",
    "    distances, indices = knn.kneighbors([X[movie_index]])\n",
    "    similar_movies = [(movies.iloc[idx]['title'], distances.squeeze()[i]) for i, idx in enumerate(indices.squeeze())]\n",
    "    return similar_movies\n",
    "\n",
    "# Exemplo: Encontrar filmes semelhantes ao filme com índice 0\n",
    "similar_movies = find_similar_movies(0)\n",
    "print(\"Filmes semelhantes ao filme:\", movies.iloc[0]['title'])\n",
    "for movie, distance in similar_movies[1:]:  # Exclui o filme em si da lista\n",
    "    print(f\"{movie} (Distância: {distance})\")\n"
   ]
  },
  {
   "cell_type": "markdown",
   "metadata": {},
   "source": [
    "## Fim"
   ]
  },
  {
   "cell_type": "code",
   "execution_count": null,
   "metadata": {},
   "outputs": [],
   "source": []
  }
 ],
 "metadata": {
  "anaconda-cloud": {},
  "kernelspec": {
   "display_name": "Python 3 (ipykernel)",
   "language": "python",
   "name": "python3"
  },
  "language_info": {
   "codemirror_mode": {
    "name": "ipython",
    "version": 3
   },
   "file_extension": ".py",
   "mimetype": "text/x-python",
   "name": "python",
   "nbconvert_exporter": "python",
   "pygments_lexer": "ipython3",
   "version": "3.9.12"
  }
 },
 "nbformat": 4,
 "nbformat_minor": 1
}
